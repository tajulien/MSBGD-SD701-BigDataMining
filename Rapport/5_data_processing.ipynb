{
 "cells": [
  {
   "cell_type": "markdown",
   "id": "d3900c34-72ba-4217-9cd8-dc559c0561f0",
   "metadata": {},
   "source": [
    "# 1. Initialisation"
   ]
  },
  {
   "cell_type": "code",
   "execution_count": null,
   "id": "dc494409-47c4-41ce-855b-18406cb431ec",
   "metadata": {},
   "outputs": [],
   "source": [
    "import pandas as pd\n",
    "import numpy as np\n",
    "import matplotlib.pyplot as plt\n",
    "from sklearn import linear_model\n",
    "from sklearn.model_selection import train_test_split\n",
    "from sklearn.linear_model import LassoCV\n",
    "from sklearn.preprocessing import StandardScaler\n",
    "from sklearn.neural_network import MLPRegressor\n",
    "from sklearn.neighbors import KNeighborsRegressor\n",
    "from sklearn.model_selection import cross_val_score\n",
    "from sklearn.model_selection import ShuffleSplit\n",
    "import warnings\n",
    "warnings.filterwarnings('ignore')"
   ]
  },
  {
   "cell_type": "code",
   "execution_count": null,
   "id": "c40071e6-0bf0-4bad-9999-fe6fd71f427c",
   "metadata": {},
   "outputs": [],
   "source": [
    "%load_ext pycodestyle_magic"
   ]
  },
  {
   "cell_type": "code",
   "execution_count": null,
   "id": "fc024bd8-1c4a-4e9d-8075-76d3b2154369",
   "metadata": {},
   "outputs": [],
   "source": [
    "%flake8_on"
   ]
  },
  {
   "cell_type": "code",
   "execution_count": null,
   "id": "298f0266-57ba-4c6e-bbe3-2467b0df0a67",
   "metadata": {},
   "outputs": [],
   "source": [
    "df = pd.read_parquet('2 - Données retraitées/dataset_metro.parquet')"
   ]
  },
  {
   "cell_type": "markdown",
   "id": "388e8812-255a-4d47-afac-3cd833e39349",
   "metadata": {},
   "source": [
    "Les données de qualité de l'air extérieur ne sont disponibles qu'à partir de fin septembre 2017. On restreint donc l'étude à la période suivant ce moment :"
   ]
  },
  {
   "cell_type": "code",
   "execution_count": null,
   "id": "21baa980-4527-4d34-975d-09bb971d0c7d",
   "metadata": {},
   "outputs": [],
   "source": [
    "dfd = df[df.date > pd.Timestamp('2017-10-01')].copy()"
   ]
  },
  {
   "cell_type": "code",
   "execution_count": null,
   "id": "ef4605ca-744a-4396-a5ae-e140c47764bc",
   "metadata": {},
   "outputs": [
    {
     "name": "stdout",
     "output_type": "stream",
     "text": [
      "<class 'pandas.core.frame.DataFrame'>\n",
      "Int64Index: 35451 entries, 41638 to 77088\n",
      "Data columns (total 31 columns):\n",
      " #   Column             Non-Null Count  Dtype         \n",
      "---  ------             --------------  -----         \n",
      " 0   date/heure         35451 non-null  datetime64[ns]\n",
      " 1   date               35451 non-null  object        \n",
      " 2   heure              35451 non-null  object        \n",
      " 3   jour               35451 non-null  object        \n",
      " 4   ferie              35451 non-null  int64         \n",
      " 5   vacances           35451 non-null  object        \n",
      " 6   semestre           35451 non-null  object        \n",
      " 7   CAT_JOUR           35451 non-null  object        \n",
      " 8   NO                 31293 non-null  float64       \n",
      " 9   NO2                31864 non-null  float64       \n",
      " 10  PM10               33992 non-null  float64       \n",
      " 11  CO2                34799 non-null  float64       \n",
      " 12  TEMP               34798 non-null  float64       \n",
      " 13  HUMI               31671 non-null  float64       \n",
      " 14  temp_ext           35119 non-null  float64       \n",
      " 15  pluie_ext          35232 non-null  float64       \n",
      " 16  vent_ext           35270 non-null  float64       \n",
      " 17  rafale_ext         35267 non-null  float64       \n",
      " 18  humidite_ext       35270 non-null  float64       \n",
      " 19  ressenti_ext       19161 non-null  float64       \n",
      " 20  radiation_ext      16383 non-null  float64       \n",
      " 21  pt_rose_ext        35269 non-null  float64       \n",
      " 22  pression_ext       35270 non-null  float64       \n",
      " 23  visibilite_ext     34902 non-null  float64       \n",
      " 24  NO2_ext            32795 non-null  float64       \n",
      " 25  NOX_as_NO2_ext     33248 non-null  float64       \n",
      " 26  O3_ext             16511 non-null  float64       \n",
      " 27  PM10_ext           31259 non-null  float64       \n",
      " 28  PM25_ext           15985 non-null  float64       \n",
      " 29  trafic             35451 non-null  int64         \n",
      " 30  pourc_validations  23838 non-null  float64       \n",
      "dtypes: datetime64[ns](1), float64(22), int64(2), object(6)\n",
      "memory usage: 8.7+ MB\n"
     ]
    }
   ],
   "source": [
    "dfd.info()"
   ]
  },
  {
   "cell_type": "code",
   "execution_count": null,
   "id": "7fdbfa29-081e-4110-9335-4eb5f6c2c3d7",
   "metadata": {},
   "outputs": [],
   "source": [
    "# Suppression des colonnes peu fournies\n",
    "dfd.drop(columns={'ressenti_ext',\n",
    "                  'radiation_ext',\n",
    "                  'O3_ext',\n",
    "                  'PM25_ext'},\n",
    "         inplace=True)"
   ]
  },
  {
   "cell_type": "markdown",
   "id": "a6bcfda8-157a-4853-b8f9-a5c3de71a3ec",
   "metadata": {},
   "source": [
    "# 2. Centrage et normalisation des données"
   ]
  },
  {
   "cell_type": "code",
   "execution_count": 15,
   "id": "b151fc3a-daa4-448f-ac44-afb48b2bdb10",
   "metadata": {},
   "outputs": [
    {
     "name": "stdout",
     "output_type": "stream",
     "text": [
      "Il y a 17555 valeurs à étudier\n"
     ]
    }
   ],
   "source": [
    "# Sélection des variables chiffrées des différents paramètres\n",
    "dfw = dfd[dfd.columns[8:]].copy()\n",
    "# Suppression des lignes contenant des NaN\n",
    "dfw.dropna(inplace=True)\n",
    "dfw.reset_index(inplace=True)\n",
    "dfw.drop(columns={'index'}, inplace=True)\n",
    "print(\"Il y a\", str(dfw.shape[0]), \"valeurs à étudier\")"
   ]
  },
  {
   "cell_type": "code",
   "execution_count": 16,
   "id": "17f9fbfe-791c-4429-a963-c22376f854de",
   "metadata": {},
   "outputs": [
    {
     "name": "stdout",
     "output_type": "stream",
     "text": [
      "Espérances ≈ 0 : True\n",
      "Variances ≈ 1 : True\n"
     ]
    }
   ],
   "source": [
    "# Split du DataFrame\n",
    "X = dfw[dfw.columns[6:]]\n",
    "y = dfw[dfw.columns[:6]]\n",
    "# Centrage/réduction des colonnes\n",
    "scaler = StandardScaler()\n",
    "X = pd.DataFrame(scaler.fit_transform(X))\n",
    "y = pd.DataFrame(scaler.fit_transform(y))\n",
    "# Renommage des colonnes en vue du LASSO\n",
    "for i in range(X.shape[1]):\n",
    "    X.rename(columns={X.columns[i]: i}, inplace=True)\n",
    "# Vérification du résultat\n",
    "print(\"Espérances ≈ 0 :\", str(np.allclose(X.mean(), 0)))\n",
    "print(\"Variances ≈ 1 :\", str(np.allclose(X.var(), 1, atol=1e-2)))"
   ]
  },
  {
   "cell_type": "markdown",
   "id": "1e6d5464-f4f5-4620-9d62-d0c8ab5906b8",
   "metadata": {},
   "source": [
    "<div class=\"alert alert-block alert-success\">\n",
    "    <b>\n",
    "        <li>Les variables sont centrées car leur espérance est proche de 0</li>\n",
    "        <li>Les variables sont normalisées car leur variance est proche de 1</li>\n",
    "    </b>\n",
    "</div>"
   ]
  },
  {
   "cell_type": "markdown",
   "id": "542825c4-e9f6-47e7-a7c9-7837809715b9",
   "metadata": {},
   "source": [
    "# 3. Etude de corrélation via une régression linéaire simple, un régresseur KNN et un perceptron multi-couche"
   ]
  },
  {
   "cell_type": "code",
   "execution_count": 17,
   "id": "297dde30-9ef5-49d7-b6da-8aadc7470d48",
   "metadata": {},
   "outputs": [
    {
     "data": {
      "text/html": [
       "<div>\n",
       "<style scoped>\n",
       "    .dataframe tbody tr th:only-of-type {\n",
       "        vertical-align: middle;\n",
       "    }\n",
       "\n",
       "    .dataframe tbody tr th {\n",
       "        vertical-align: top;\n",
       "    }\n",
       "\n",
       "    .dataframe thead th {\n",
       "        text-align: right;\n",
       "    }\n",
       "</style>\n",
       "<table border=\"1\" class=\"dataframe\">\n",
       "  <thead>\n",
       "    <tr style=\"text-align: right;\">\n",
       "      <th></th>\n",
       "      <th>r2_linear_regression</th>\n",
       "      <th>r2_knn</th>\n",
       "      <th>r2_perceptron</th>\n",
       "    </tr>\n",
       "  </thead>\n",
       "  <tbody>\n",
       "    <tr>\n",
       "      <th>NO</th>\n",
       "      <td>0.37</td>\n",
       "      <td>0.53</td>\n",
       "      <td>0.57</td>\n",
       "    </tr>\n",
       "    <tr>\n",
       "      <th>NO2</th>\n",
       "      <td>0.37</td>\n",
       "      <td>0.54</td>\n",
       "      <td>0.57</td>\n",
       "    </tr>\n",
       "    <tr>\n",
       "      <th>PM10</th>\n",
       "      <td>0.12</td>\n",
       "      <td>0.19</td>\n",
       "      <td>0.27</td>\n",
       "    </tr>\n",
       "    <tr>\n",
       "      <th>CO2</th>\n",
       "      <td>0.82</td>\n",
       "      <td>0.87</td>\n",
       "      <td>0.89</td>\n",
       "    </tr>\n",
       "    <tr>\n",
       "      <th>TEMP</th>\n",
       "      <td>0.64</td>\n",
       "      <td>0.70</td>\n",
       "      <td>0.73</td>\n",
       "    </tr>\n",
       "    <tr>\n",
       "      <th>HUMI</th>\n",
       "      <td>0.32</td>\n",
       "      <td>0.46</td>\n",
       "      <td>0.51</td>\n",
       "    </tr>\n",
       "  </tbody>\n",
       "</table>\n",
       "</div>"
      ],
      "text/plain": [
       "      r2_linear_regression  r2_knn  r2_perceptron\n",
       "NO                    0.37    0.53           0.57\n",
       "NO2                   0.37    0.54           0.57\n",
       "PM10                  0.12    0.19           0.27\n",
       "CO2                   0.82    0.87           0.89\n",
       "TEMP                  0.64    0.70           0.73\n",
       "HUMI                  0.32    0.46           0.51"
      ]
     },
     "execution_count": 17,
     "metadata": {},
     "output_type": "execute_result"
    }
   ],
   "source": [
    "# Initialisation du DataFrame de résultat\n",
    "df_res = pd.DataFrame()\n",
    "\n",
    "# Initialisation des listes de résultats\n",
    "R2_lr = []\n",
    "R2_mlp = []\n",
    "R2_knn = []\n",
    "\n",
    "# Choix aléatoire de valeurs de random_state en vue de reproduire l'analyse\n",
    "rs = [494, 115, 421, 354, 67, 310]\n",
    "\n",
    "# Initialisation des modèles\n",
    "reg_lss = linear_model.LinearRegression()\n",
    "mlp = MLPRegressor()\n",
    "\n",
    "# Prédictions des 3 modèles pour chaque variable à expliquer\n",
    "for i in range(y.shape[1]):\n",
    "    # Data split\n",
    "    X_train, X_test, y_train, y_test = train_test_split(X,\n",
    "                                                        y[y.columns[i]],\n",
    "                                                        random_state=rs[i],\n",
    "                                                        test_size=0.25)\n",
    "    # LASSO and Linear Regression\n",
    "    skl_lss = LassoCV().fit(X_train, y_train)\n",
    "    lss_features = np.nonzero(skl_lss.coef_)[0].tolist()\n",
    "    reg_lss.fit(X_train[lss_features].values, y_train)\n",
    "    R2_reg_lss = reg_lss.score(X_test[lss_features].values, y_test)\n",
    "    R2_lr.append(round(R2_reg_lss, 2))\n",
    "\n",
    "    # KNN regressor\n",
    "    shuf_split = ShuffleSplit(5, test_size=0.33)\n",
    "\n",
    "    def score_func(k):\n",
    "        knn = KNeighborsRegressor(n_neighbors=k)\n",
    "        scores = cross_val_score(estimator=knn,\n",
    "                                 X=X_train,\n",
    "                                 y=y_train,\n",
    "                                 cv=shuf_split)\n",
    "        return np.mean(scores)\n",
    "\n",
    "    list_k = list(range(1, 80, 3))\n",
    "    scores_per_k = list(map(score_func, list_k))\n",
    "    best_k = list_k[np.argmax(scores_per_k)]\n",
    "    knn = KNeighborsRegressor(n_neighbors=best_k).fit(X_train, y_train)\n",
    "    R2_knn.append(round(knn.score(X_test, y_test), 2))\n",
    "\n",
    "    # Multi layer Perceptron\n",
    "    mlp.fit(X_train, y_train)\n",
    "    R2_mlp.append(round(mlp.score(X_test, y_test), 2))\n",
    "\n",
    "df_res['r2_linear_regression'] = R2_lr\n",
    "df_res['r2_knn'] = R2_knn\n",
    "df_res['r2_perceptron'] = R2_mlp\n",
    "df_res.index = dfw.columns.tolist()[:6]\n",
    "df_res"
   ]
  },
  {
   "cell_type": "markdown",
   "id": "14346475-fc17-427b-82c9-cd69e9d2b8dd",
   "metadata": {},
   "source": [
    "# 4. Industrialisation de l'analyse"
   ]
  },
  {
   "cell_type": "markdown",
   "id": "62681663-3f3c-437c-9d1d-4d9e301315bd",
   "metadata": {},
   "source": [
    "### 4.1. Fonction regroupant les calculs précédents"
   ]
  },
  {
   "cell_type": "code",
   "execution_count": 15,
   "id": "8017e8ee-c2e2-4a3f-ad63-a675343ac8b2",
   "metadata": {},
   "outputs": [],
   "source": [
    "def predictions(df):\n",
    "    df.drop(columns={'ressenti_ext',\n",
    "                     'radiation_ext',\n",
    "                     'O3_ext',\n",
    "                     'PM25_ext'},\n",
    "            inplace=True)\n",
    "    dfw = df[df.columns[8:]].copy()\n",
    "    dfw.dropna(inplace=True)\n",
    "    dfw.reset_index(inplace=True)\n",
    "    dfw.drop(columns={'index'}, inplace=True)\n",
    "    X = dfw[dfw.columns[6:]]\n",
    "    y = dfw[dfw.columns[:6]]\n",
    "    scaler = StandardScaler()\n",
    "    X = pd.DataFrame(scaler.fit_transform(X))\n",
    "    y = pd.DataFrame(scaler.fit_transform(y))\n",
    "    for i in range(X.shape[1]):\n",
    "        X.rename(columns={X.columns[i]: i}, inplace=True)\n",
    "    df_res = pd.DataFrame()\n",
    "    rs = [494, 115, 421, 354, 67, 310]\n",
    "    R2_lr = []\n",
    "    R2_mlp = []\n",
    "    R2_knn = []\n",
    "    reg_lss = linear_model.LinearRegression()\n",
    "    mlp = MLPRegressor()\n",
    "    for i in range(y.shape[1]):\n",
    "        X_train, X_test, y_train, y_test = train_test_split(X,\n",
    "                                                            y[y.columns[i]],\n",
    "                                                            random_state=rs[i],\n",
    "                                                            test_size=0.25)\n",
    "        skl_lss = LassoCV().fit(X_train, y_train)\n",
    "        lss_features = np.nonzero(skl_lss.coef_)[0].tolist()\n",
    "        reg_lss.fit(X_train[lss_features].values, y_train)\n",
    "        R2_reg_lss = reg_lss.score(X_test[lss_features].values, y_test)\n",
    "        R2_lr.append(round(R2_reg_lss, 2))\n",
    "\n",
    "        shuf_split = ShuffleSplit(5, test_size=0.33)\n",
    "\n",
    "        def score_func(k):\n",
    "            knn = KNeighborsRegressor(n_neighbors=k)\n",
    "            scores = cross_val_score(estimator=knn,\n",
    "                                     X=X_train,\n",
    "                                     y=y_train,\n",
    "                                     cv=shuf_split)\n",
    "            return np.mean(scores)\n",
    "\n",
    "        list_k = list(range(1, 80, 3))\n",
    "        scores_per_k = list(map(score_func, list_k))\n",
    "        best_k = list_k[np.argmax(scores_per_k)]\n",
    "        knn = KNeighborsRegressor(n_neighbors=best_k).fit(X_train, y_train)\n",
    "        R2_knn.append(round(knn.score(X_test, y_test), 2))\n",
    "        mlp.fit(X_train, y_train)\n",
    "        R2_mlp.append(round(mlp.score(X_test, y_test), 2))\n",
    "    df_res['r2_linear_regression'] = R2_lr\n",
    "    df_res['r2_knn'] = R2_knn\n",
    "    df_res['r2_perceptron'] = R2_mlp\n",
    "    df_res.index = dfw.columns.tolist()[:6]\n",
    "    return df_res"
   ]
  },
  {
   "cell_type": "markdown",
   "id": "9e569757-4e11-49c8-8520-78ccc58c84ec",
   "metadata": {},
   "source": [
    "### 4.2. Analyse par semestre"
   ]
  },
  {
   "cell_type": "code",
   "execution_count": 16,
   "id": "15b6c70d-ff97-481f-b52d-536b613fab55",
   "metadata": {},
   "outputs": [
    {
     "name": "stdout",
     "output_type": "stream",
     "text": [
      "9/17\n",
      "10/17\n",
      "11/17\n",
      "12/17\n",
      "15/17\n"
     ]
    },
    {
     "name": "stderr",
     "output_type": "stream",
     "text": [
      "15:5: E722 do not use bare 'except'\n"
     ]
    },
    {
     "name": "stdout",
     "output_type": "stream",
     "text": [
      "16/17\n"
     ]
    }
   ],
   "source": [
    "list_sem = df.semestre.unique().tolist()\n",
    "dict_var = {}\n",
    "results = []\n",
    "liste_sem_ok = []\n",
    "i = 0\n",
    "j = 0\n",
    "for sem in list_sem:\n",
    "    try:\n",
    "        pred = predictions(df[df.semestre == sem])\n",
    "        results.append(pred)\n",
    "        dict_var[sem] = j\n",
    "        liste_sem_ok.append(sem)\n",
    "        j += 1\n",
    "        print(str(i) + \"/\" + str(len(list_sem)-1))\n",
    "    except:\n",
    "        pass\n",
    "    i += 1"
   ]
  },
  {
   "cell_type": "code",
   "execution_count": 17,
   "id": "f6271bdc-f9fe-416d-adc5-628a6c43aacc",
   "metadata": {},
   "outputs": [
    {
     "data": {
      "text/plain": [
       "['2017S2', '2018S1', '2018S2', '2019S1', '2020S2', '2021S1']"
      ]
     },
     "execution_count": 17,
     "metadata": {},
     "output_type": "execute_result"
    }
   ],
   "source": [
    "liste_sem_ok"
   ]
  },
  {
   "cell_type": "code",
   "execution_count": 29,
   "id": "5888ef1e-2541-4ac5-b30f-7db2d01cc77a",
   "metadata": {},
   "outputs": [
    {
     "data": {
      "text/html": [
       "<div>\n",
       "<style scoped>\n",
       "    .dataframe tbody tr th:only-of-type {\n",
       "        vertical-align: middle;\n",
       "    }\n",
       "\n",
       "    .dataframe tbody tr th {\n",
       "        vertical-align: top;\n",
       "    }\n",
       "\n",
       "    .dataframe thead th {\n",
       "        text-align: right;\n",
       "    }\n",
       "</style>\n",
       "<table border=\"1\" class=\"dataframe\">\n",
       "  <thead>\n",
       "    <tr style=\"text-align: right;\">\n",
       "      <th></th>\n",
       "      <th>r2_linear_regression</th>\n",
       "      <th>r2_knn</th>\n",
       "      <th>r2_perceptron</th>\n",
       "    </tr>\n",
       "  </thead>\n",
       "  <tbody>\n",
       "    <tr>\n",
       "      <th>NO</th>\n",
       "      <td>0.62</td>\n",
       "      <td>0.70</td>\n",
       "      <td>0.68</td>\n",
       "    </tr>\n",
       "    <tr>\n",
       "      <th>NO2</th>\n",
       "      <td>0.59</td>\n",
       "      <td>0.65</td>\n",
       "      <td>0.71</td>\n",
       "    </tr>\n",
       "    <tr>\n",
       "      <th>PM10</th>\n",
       "      <td>0.39</td>\n",
       "      <td>0.45</td>\n",
       "      <td>0.50</td>\n",
       "    </tr>\n",
       "    <tr>\n",
       "      <th>CO2</th>\n",
       "      <td>0.85</td>\n",
       "      <td>0.90</td>\n",
       "      <td>0.93</td>\n",
       "    </tr>\n",
       "    <tr>\n",
       "      <th>TEMP</th>\n",
       "      <td>0.69</td>\n",
       "      <td>0.73</td>\n",
       "      <td>0.79</td>\n",
       "    </tr>\n",
       "    <tr>\n",
       "      <th>HUMI</th>\n",
       "      <td>0.71</td>\n",
       "      <td>0.75</td>\n",
       "      <td>0.79</td>\n",
       "    </tr>\n",
       "  </tbody>\n",
       "</table>\n",
       "</div>"
      ],
      "text/plain": [
       "      r2_linear_regression  r2_knn  r2_perceptron\n",
       "NO                    0.62    0.70           0.68\n",
       "NO2                   0.59    0.65           0.71\n",
       "PM10                  0.39    0.45           0.50\n",
       "CO2                   0.85    0.90           0.93\n",
       "TEMP                  0.69    0.73           0.79\n",
       "HUMI                  0.71    0.75           0.79"
      ]
     },
     "execution_count": 29,
     "metadata": {},
     "output_type": "execute_result"
    }
   ],
   "source": [
    "results[dict_var['2017S2']]"
   ]
  },
  {
   "cell_type": "code",
   "execution_count": 19,
   "id": "8f5416ac-052c-4241-8596-babfd074ee9c",
   "metadata": {},
   "outputs": [
    {
     "data": {
      "text/html": [
       "<div>\n",
       "<style scoped>\n",
       "    .dataframe tbody tr th:only-of-type {\n",
       "        vertical-align: middle;\n",
       "    }\n",
       "\n",
       "    .dataframe tbody tr th {\n",
       "        vertical-align: top;\n",
       "    }\n",
       "\n",
       "    .dataframe thead th {\n",
       "        text-align: right;\n",
       "    }\n",
       "</style>\n",
       "<table border=\"1\" class=\"dataframe\">\n",
       "  <thead>\n",
       "    <tr style=\"text-align: right;\">\n",
       "      <th></th>\n",
       "      <th>r2_linear_regression</th>\n",
       "      <th>r2_knn</th>\n",
       "      <th>r2_perceptron</th>\n",
       "    </tr>\n",
       "  </thead>\n",
       "  <tbody>\n",
       "    <tr>\n",
       "      <th>NO</th>\n",
       "      <td>0.20</td>\n",
       "      <td>0.44</td>\n",
       "      <td>0.49</td>\n",
       "    </tr>\n",
       "    <tr>\n",
       "      <th>NO2</th>\n",
       "      <td>0.30</td>\n",
       "      <td>0.51</td>\n",
       "      <td>0.54</td>\n",
       "    </tr>\n",
       "    <tr>\n",
       "      <th>PM10</th>\n",
       "      <td>0.09</td>\n",
       "      <td>0.25</td>\n",
       "      <td>0.35</td>\n",
       "    </tr>\n",
       "    <tr>\n",
       "      <th>CO2</th>\n",
       "      <td>0.88</td>\n",
       "      <td>0.91</td>\n",
       "      <td>0.93</td>\n",
       "    </tr>\n",
       "    <tr>\n",
       "      <th>TEMP</th>\n",
       "      <td>0.75</td>\n",
       "      <td>0.78</td>\n",
       "      <td>0.82</td>\n",
       "    </tr>\n",
       "    <tr>\n",
       "      <th>HUMI</th>\n",
       "      <td>0.29</td>\n",
       "      <td>0.48</td>\n",
       "      <td>0.59</td>\n",
       "    </tr>\n",
       "  </tbody>\n",
       "</table>\n",
       "</div>"
      ],
      "text/plain": [
       "      r2_linear_regression  r2_knn  r2_perceptron\n",
       "NO                    0.20    0.44           0.49\n",
       "NO2                   0.30    0.51           0.54\n",
       "PM10                  0.09    0.25           0.35\n",
       "CO2                   0.88    0.91           0.93\n",
       "TEMP                  0.75    0.78           0.82\n",
       "HUMI                  0.29    0.48           0.59"
      ]
     },
     "execution_count": 19,
     "metadata": {},
     "output_type": "execute_result"
    }
   ],
   "source": [
    "results[dict_var['2018S1']]"
   ]
  },
  {
   "cell_type": "code",
   "execution_count": 20,
   "id": "8cac7a57-141c-4ca9-b4de-f4276b0515d1",
   "metadata": {},
   "outputs": [
    {
     "data": {
      "text/html": [
       "<div>\n",
       "<style scoped>\n",
       "    .dataframe tbody tr th:only-of-type {\n",
       "        vertical-align: middle;\n",
       "    }\n",
       "\n",
       "    .dataframe tbody tr th {\n",
       "        vertical-align: top;\n",
       "    }\n",
       "\n",
       "    .dataframe thead th {\n",
       "        text-align: right;\n",
       "    }\n",
       "</style>\n",
       "<table border=\"1\" class=\"dataframe\">\n",
       "  <thead>\n",
       "    <tr style=\"text-align: right;\">\n",
       "      <th></th>\n",
       "      <th>r2_linear_regression</th>\n",
       "      <th>r2_knn</th>\n",
       "      <th>r2_perceptron</th>\n",
       "    </tr>\n",
       "  </thead>\n",
       "  <tbody>\n",
       "    <tr>\n",
       "      <th>NO</th>\n",
       "      <td>0.20</td>\n",
       "      <td>0.34</td>\n",
       "      <td>0.42</td>\n",
       "    </tr>\n",
       "    <tr>\n",
       "      <th>NO2</th>\n",
       "      <td>0.32</td>\n",
       "      <td>0.50</td>\n",
       "      <td>0.55</td>\n",
       "    </tr>\n",
       "    <tr>\n",
       "      <th>PM10</th>\n",
       "      <td>0.18</td>\n",
       "      <td>0.24</td>\n",
       "      <td>0.26</td>\n",
       "    </tr>\n",
       "    <tr>\n",
       "      <th>CO2</th>\n",
       "      <td>0.85</td>\n",
       "      <td>0.91</td>\n",
       "      <td>0.93</td>\n",
       "    </tr>\n",
       "    <tr>\n",
       "      <th>TEMP</th>\n",
       "      <td>0.65</td>\n",
       "      <td>0.74</td>\n",
       "      <td>0.78</td>\n",
       "    </tr>\n",
       "    <tr>\n",
       "      <th>HUMI</th>\n",
       "      <td>0.44</td>\n",
       "      <td>0.57</td>\n",
       "      <td>0.62</td>\n",
       "    </tr>\n",
       "  </tbody>\n",
       "</table>\n",
       "</div>"
      ],
      "text/plain": [
       "      r2_linear_regression  r2_knn  r2_perceptron\n",
       "NO                    0.20    0.34           0.42\n",
       "NO2                   0.32    0.50           0.55\n",
       "PM10                  0.18    0.24           0.26\n",
       "CO2                   0.85    0.91           0.93\n",
       "TEMP                  0.65    0.74           0.78\n",
       "HUMI                  0.44    0.57           0.62"
      ]
     },
     "execution_count": 20,
     "metadata": {},
     "output_type": "execute_result"
    }
   ],
   "source": [
    "results[dict_var['2018S2']]"
   ]
  },
  {
   "cell_type": "code",
   "execution_count": 21,
   "id": "8052d312-b5a8-4e02-9d2d-9cc43bada49f",
   "metadata": {},
   "outputs": [
    {
     "data": {
      "text/html": [
       "<div>\n",
       "<style scoped>\n",
       "    .dataframe tbody tr th:only-of-type {\n",
       "        vertical-align: middle;\n",
       "    }\n",
       "\n",
       "    .dataframe tbody tr th {\n",
       "        vertical-align: top;\n",
       "    }\n",
       "\n",
       "    .dataframe thead th {\n",
       "        text-align: right;\n",
       "    }\n",
       "</style>\n",
       "<table border=\"1\" class=\"dataframe\">\n",
       "  <thead>\n",
       "    <tr style=\"text-align: right;\">\n",
       "      <th></th>\n",
       "      <th>r2_linear_regression</th>\n",
       "      <th>r2_knn</th>\n",
       "      <th>r2_perceptron</th>\n",
       "    </tr>\n",
       "  </thead>\n",
       "  <tbody>\n",
       "    <tr>\n",
       "      <th>NO</th>\n",
       "      <td>0.35</td>\n",
       "      <td>0.61</td>\n",
       "      <td>0.58</td>\n",
       "    </tr>\n",
       "    <tr>\n",
       "      <th>NO2</th>\n",
       "      <td>0.40</td>\n",
       "      <td>0.62</td>\n",
       "      <td>0.61</td>\n",
       "    </tr>\n",
       "    <tr>\n",
       "      <th>PM10</th>\n",
       "      <td>0.13</td>\n",
       "      <td>0.36</td>\n",
       "      <td>0.22</td>\n",
       "    </tr>\n",
       "    <tr>\n",
       "      <th>CO2</th>\n",
       "      <td>0.79</td>\n",
       "      <td>0.88</td>\n",
       "      <td>0.88</td>\n",
       "    </tr>\n",
       "    <tr>\n",
       "      <th>TEMP</th>\n",
       "      <td>0.67</td>\n",
       "      <td>0.72</td>\n",
       "      <td>0.76</td>\n",
       "    </tr>\n",
       "    <tr>\n",
       "      <th>HUMI</th>\n",
       "      <td>0.39</td>\n",
       "      <td>0.53</td>\n",
       "      <td>0.56</td>\n",
       "    </tr>\n",
       "  </tbody>\n",
       "</table>\n",
       "</div>"
      ],
      "text/plain": [
       "      r2_linear_regression  r2_knn  r2_perceptron\n",
       "NO                    0.35    0.61           0.58\n",
       "NO2                   0.40    0.62           0.61\n",
       "PM10                  0.13    0.36           0.22\n",
       "CO2                   0.79    0.88           0.88\n",
       "TEMP                  0.67    0.72           0.76\n",
       "HUMI                  0.39    0.53           0.56"
      ]
     },
     "execution_count": 21,
     "metadata": {},
     "output_type": "execute_result"
    }
   ],
   "source": [
    "results[dict_var['2019S1']]"
   ]
  },
  {
   "cell_type": "code",
   "execution_count": 22,
   "id": "9780240d-16ce-4e05-8496-ce01a4713983",
   "metadata": {},
   "outputs": [
    {
     "data": {
      "text/html": [
       "<div>\n",
       "<style scoped>\n",
       "    .dataframe tbody tr th:only-of-type {\n",
       "        vertical-align: middle;\n",
       "    }\n",
       "\n",
       "    .dataframe tbody tr th {\n",
       "        vertical-align: top;\n",
       "    }\n",
       "\n",
       "    .dataframe thead th {\n",
       "        text-align: right;\n",
       "    }\n",
       "</style>\n",
       "<table border=\"1\" class=\"dataframe\">\n",
       "  <thead>\n",
       "    <tr style=\"text-align: right;\">\n",
       "      <th></th>\n",
       "      <th>r2_linear_regression</th>\n",
       "      <th>r2_knn</th>\n",
       "      <th>r2_perceptron</th>\n",
       "    </tr>\n",
       "  </thead>\n",
       "  <tbody>\n",
       "    <tr>\n",
       "      <th>NO</th>\n",
       "      <td>0.14</td>\n",
       "      <td>0.33</td>\n",
       "      <td>0.36</td>\n",
       "    </tr>\n",
       "    <tr>\n",
       "      <th>NO2</th>\n",
       "      <td>0.28</td>\n",
       "      <td>0.47</td>\n",
       "      <td>0.55</td>\n",
       "    </tr>\n",
       "    <tr>\n",
       "      <th>PM10</th>\n",
       "      <td>0.15</td>\n",
       "      <td>0.19</td>\n",
       "      <td>0.17</td>\n",
       "    </tr>\n",
       "    <tr>\n",
       "      <th>CO2</th>\n",
       "      <td>0.84</td>\n",
       "      <td>0.87</td>\n",
       "      <td>0.91</td>\n",
       "    </tr>\n",
       "    <tr>\n",
       "      <th>TEMP</th>\n",
       "      <td>0.50</td>\n",
       "      <td>0.61</td>\n",
       "      <td>0.65</td>\n",
       "    </tr>\n",
       "    <tr>\n",
       "      <th>HUMI</th>\n",
       "      <td>0.33</td>\n",
       "      <td>0.54</td>\n",
       "      <td>0.57</td>\n",
       "    </tr>\n",
       "  </tbody>\n",
       "</table>\n",
       "</div>"
      ],
      "text/plain": [
       "      r2_linear_regression  r2_knn  r2_perceptron\n",
       "NO                    0.14    0.33           0.36\n",
       "NO2                   0.28    0.47           0.55\n",
       "PM10                  0.15    0.19           0.17\n",
       "CO2                   0.84    0.87           0.91\n",
       "TEMP                  0.50    0.61           0.65\n",
       "HUMI                  0.33    0.54           0.57"
      ]
     },
     "execution_count": 22,
     "metadata": {},
     "output_type": "execute_result"
    }
   ],
   "source": [
    "results[dict_var['2020S2']]"
   ]
  },
  {
   "cell_type": "code",
   "execution_count": 23,
   "id": "42d21819-3776-470d-ae5f-292b755c3868",
   "metadata": {},
   "outputs": [
    {
     "data": {
      "text/html": [
       "<div>\n",
       "<style scoped>\n",
       "    .dataframe tbody tr th:only-of-type {\n",
       "        vertical-align: middle;\n",
       "    }\n",
       "\n",
       "    .dataframe tbody tr th {\n",
       "        vertical-align: top;\n",
       "    }\n",
       "\n",
       "    .dataframe thead th {\n",
       "        text-align: right;\n",
       "    }\n",
       "</style>\n",
       "<table border=\"1\" class=\"dataframe\">\n",
       "  <thead>\n",
       "    <tr style=\"text-align: right;\">\n",
       "      <th></th>\n",
       "      <th>r2_linear_regression</th>\n",
       "      <th>r2_knn</th>\n",
       "      <th>r2_perceptron</th>\n",
       "    </tr>\n",
       "  </thead>\n",
       "  <tbody>\n",
       "    <tr>\n",
       "      <th>NO</th>\n",
       "      <td>0.38</td>\n",
       "      <td>0.67</td>\n",
       "      <td>0.70</td>\n",
       "    </tr>\n",
       "    <tr>\n",
       "      <th>NO2</th>\n",
       "      <td>0.41</td>\n",
       "      <td>0.65</td>\n",
       "      <td>0.65</td>\n",
       "    </tr>\n",
       "    <tr>\n",
       "      <th>PM10</th>\n",
       "      <td>0.30</td>\n",
       "      <td>0.39</td>\n",
       "      <td>0.56</td>\n",
       "    </tr>\n",
       "    <tr>\n",
       "      <th>CO2</th>\n",
       "      <td>0.74</td>\n",
       "      <td>0.85</td>\n",
       "      <td>0.89</td>\n",
       "    </tr>\n",
       "    <tr>\n",
       "      <th>TEMP</th>\n",
       "      <td>0.75</td>\n",
       "      <td>0.78</td>\n",
       "      <td>0.82</td>\n",
       "    </tr>\n",
       "    <tr>\n",
       "      <th>HUMI</th>\n",
       "      <td>0.32</td>\n",
       "      <td>0.57</td>\n",
       "      <td>0.52</td>\n",
       "    </tr>\n",
       "  </tbody>\n",
       "</table>\n",
       "</div>"
      ],
      "text/plain": [
       "      r2_linear_regression  r2_knn  r2_perceptron\n",
       "NO                    0.38    0.67           0.70\n",
       "NO2                   0.41    0.65           0.65\n",
       "PM10                  0.30    0.39           0.56\n",
       "CO2                   0.74    0.85           0.89\n",
       "TEMP                  0.75    0.78           0.82\n",
       "HUMI                  0.32    0.57           0.52"
      ]
     },
     "execution_count": 23,
     "metadata": {},
     "output_type": "execute_result"
    }
   ],
   "source": [
    "results[dict_var['2021S1']]"
   ]
  },
  {
   "cell_type": "code",
   "execution_count": 48,
   "id": "6c324efa-460e-4dcd-963c-6a95e018d4e1",
   "metadata": {},
   "outputs": [
    {
     "data": {
      "text/plain": [
       "{'2017S2': 0.63,\n",
       " '2018S1': 0.46,\n",
       " '2018S2': 0.41,\n",
       " '2019S1': 0.47,\n",
       " '2020S2': 0.36,\n",
       " '2021S1': 0.64}"
      ]
     },
     "execution_count": 48,
     "metadata": {},
     "output_type": "execute_result"
    }
   ],
   "source": [
    "df_ecarts = pd.DataFrame()\n",
    "dict_ec = {}\n",
    "for i, res in enumerate(results):\n",
    "    dict_ec[liste_sem_ok[i]] = round(results[i].r2_perceptron[:3].mean(), 2)\n",
    "dict_ec"
   ]
  },
  {
   "cell_type": "code",
   "execution_count": null,
   "id": "146906d2-f0e3-4e5c-9f27-2b19315a3fbd",
   "metadata": {},
   "outputs": [],
   "source": []
  }
 ],
 "metadata": {
  "kernelspec": {
   "display_name": "Python 3 (ipykernel)",
   "language": "python",
   "name": "python3"
  },
  "language_info": {
   "codemirror_mode": {
    "name": "ipython",
    "version": 3
   },
   "file_extension": ".py",
   "mimetype": "text/x-python",
   "name": "python",
   "nbconvert_exporter": "python",
   "pygments_lexer": "ipython3",
   "version": "3.8.12"
  }
 },
 "nbformat": 4,
 "nbformat_minor": 5
}
